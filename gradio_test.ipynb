{
 "cells": [
  {
   "cell_type": "code",
   "execution_count": null,
   "metadata": {},
   "outputs": [],
   "source": [
    "import gradio as gr\n",
    "import matplotlib.pyplot as plt\n",
    "import PIL.Image as Image\n",
    "import io\n",
    "import numpy as np\n",
    "import tensorflow as tf\n",
    "import tensorflow_hub as hub\n",
    "import pandas as pd"
   ]
  },
  {
   "cell_type": "code",
   "execution_count": null,
   "metadata": {},
   "outputs": [],
   "source": [
    "def load_model() -> str:\n",
    "    global model\n",
    "    \n",
    "    #load model\n",
    "    model = hub.load(\"https://tfhub.dev/google/bit/m-r50x1/1\")\n",
    "    \n",
    "    return \"Model loaded successfully\"\n",
    "\n",
    "\n",
    "def predict(img: Image) -> list[dict[str, float]]:\n",
    "    global model\n",
    "    \n",
    "    # Preprocess image\n",
    "    img = np.array(img)\n",
    "    img = tf.image.convert_image_dtype(img, tf.float32)[tf.newaxis, ...]\n",
    "    \n",
    "    # Predict\n",
    "    result = model(img)\n",
    "    result = tf.keras.layers.Softmax()(result).numpy()\n",
    "    result = result[0]\n",
    "    \n",
    "    # Get top 5 predictions\n",
    "    top5 = np.argsort(result)[-5:][::-1]\n",
    "    top5 = top5.tolist()\n",
    "    top5 = [float(i) for i in top5]\n",
    "    \n"
   ]
  },
  {
   "cell_type": "code",
   "execution_count": null,
   "metadata": {},
   "outputs": [],
   "source": [
    "iface = gr.Interface(\n",
    "    fn = predict,\n",
    "    inputs = gr.Image(),\n",
    "    outputs = gr.Label()\n",
    ")\n",
    "\n"
   ]
  },
  {
   "cell_type": "code",
   "execution_count": null,
   "metadata": {},
   "outputs": [],
   "source": [
    "load_model()"
   ]
  },
  {
   "cell_type": "code",
   "execution_count": null,
   "metadata": {},
   "outputs": [],
   "source": [
    "iface.launch()"
   ]
  }
 ],
 "metadata": {
  "kernelspec": {
   "display_name": "Python 3",
   "language": "python",
   "name": "python3"
  },
  "language_info": {
   "codemirror_mode": {
    "name": "ipython",
    "version": 3
   },
   "file_extension": ".py",
   "mimetype": "text/x-python",
   "name": "python",
   "nbconvert_exporter": "python",
   "pygments_lexer": "ipython3",
   "version": "3.11.7"
  }
 },
 "nbformat": 4,
 "nbformat_minor": 2
}
