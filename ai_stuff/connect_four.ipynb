{
 "cells": [
  {
   "cell_type": "code",
   "execution_count": 13,
   "metadata": {},
   "outputs": [],
   "source": [
    "import sys\n",
    "from tqdm import tqdm\n",
    "\n",
    "sys.setrecursionlimit(10**7)"
   ]
  },
  {
   "cell_type": "code",
   "execution_count": 14,
   "metadata": {},
   "outputs": [],
   "source": [
    "board = [ # 8x8 [0, 1, 2]: 0 = empty, 1 = player1, 2 = player2\n",
    "    [0, 0, 0, 0, 0, 0, 0, 0],\n",
    "    [0, 0, 0, 0, 0, 0, 0, 0],\n",
    "    [0, 0, 0, 0, 0, 0, 0, 0],\n",
    "    [0, 0, 0, 0, 0, 0, 0, 0],\n",
    "    [0, 0, 0, 0, 0, 0, 0, 0],\n",
    "    [0, 0, 0, 0, 0, 0, 0, 0],\n",
    "    [0, 0, 0, 0, 0, 0, 0, 0],\n",
    "    [0, 0, 0, 0, 0, 0, 0, 0]\n",
    "]\n",
    "\n",
    "def player_won(board, recursive=False):\n",
    "    # check player 1 first\n",
    "\n",
    "    cords = []\n",
    "    for i in range(8):\n",
    "        for j in range(8):\n",
    "            if board[i][j] == 1:\n",
    "                cords.append((i, j))\n",
    "    \n",
    "    # check if there are 4 in a row\n",
    "    for cord in cords:\n",
    "        # horizontal\n",
    "        # check 3 left, 2 left 1 right, 1 left 2 right, 2 right 1 left, 3 right\n",
    "        if cord[1] > 2 and (cord[0], cord[1] - 1) in cords and (cord[0], cord[1] - 2) in cords and (cord[0], cord[1] - 3) in cords:\n",
    "            return 1\n",
    "        if cord[1] > 1 and cord[1] < 6 and (cord[0], cord[1] - 1) in cords and (cord[0], cord[1] - 2) in cords and (cord[0], cord[1] + 1) in cords:\n",
    "            return 1\n",
    "        if cord[1] > 0 and cord[1] < 5 and (cord[0], cord[1] - 1) in cords and (cord[0], cord[1] + 1) in cords and (cord[0], cord[1] + 2) in cords:\n",
    "            return 1\n",
    "        if cord[1] < 4 and (cord[0], cord[1] + 1) in cords and (cord[0], cord[1] + 2) in cords and (cord[0], cord[1] + 3) in cords:\n",
    "            return 1\n",
    "        \n",
    "        # vertical\n",
    "        # check 3 up, 2 up 1 down, 1 up 2 down, 2 down 1 up, 3 down\n",
    "        if cord[0] > 2 and (cord[0] - 1, cord[1]) in cords and (cord[0] - 2, cord[1]) in cords and (cord[0] - 3, cord[1]) in cords:\n",
    "            return 1\n",
    "        if cord[0] > 1 and cord[0] < 6 and (cord[0] - 1, cord[1]) in cords and (cord[0] - 2, cord[1]) in cords and (cord[0] + 1, cord[1]) in cords:\n",
    "            return 1\n",
    "        if cord[0] > 0 and cord[0] < 5 and (cord[0] - 1, cord[1]) in cords and (cord[0] + 1, cord[1]) in cords and (cord[0] + 2, cord[1]) in cords:\n",
    "            return 1\n",
    "        if cord[0] < 4 and (cord[0] + 1, cord[1]) in cords and (cord[0] + 2, cord[1]) in cords and (cord[0] + 3, cord[1]) in cords:\n",
    "            return 1\n",
    "        \n",
    "        # diagonal\n",
    "        # check 3 up left, 2 up left 1 down right, 1 up left 2 down right, 2 down right 1 up left, 3 down right\n",
    "\n",
    "        if cord[0] > 2 and cord[1] > 2 and (cord[0] - 1, cord[1] - 1) in cords and (cord[0] - 2, cord[1] - 2) in cords and (cord[0] - 3, cord[1] - 3) in cords:\n",
    "            return 1\n",
    "        if cord[0] > 1 and cord[0] < 6 and cord[1] > 1 and cord[1] < 6 and (cord[0] - 1, cord[1] - 1) in cords and (cord[0] - 2, cord[1] - 2) in cords and (cord[0] + 1, cord[1] + 1) in cords:\n",
    "            return 1\n",
    "        if cord[0] > 0 and cord[0] < 5 and cord[1] > 0 and cord[1] < 5 and (cord[0] - 1, cord[1] - 1) in cords and (cord[0] + 1, cord[1] + 1) in cords and (cord[0] + 2, cord[1] + 2) in cords:\n",
    "            return 1\n",
    "        if cord[0] < 4 and cord[1] < 4 and (cord[0] + 1, cord[1] + 1) in cords and (cord[0] + 2, cord[1] + 2) in cords and (cord[0] + 3, cord[1] + 3) in cords:\n",
    "            return 1\n",
    "        \n",
    "        # check 3 up right, 2 up right 1 down left, 1 up right 2 down left, 2 down left 1 up right, 3 down left\n",
    "\n",
    "        if cord[0] > 2 and cord[1] < 5 and (cord[0] - 1, cord[1] + 1) in cords and (cord[0] - 2, cord[1] + 2) in cords and (cord[0] - 3, cord[1] + 3) in cords:\n",
    "            return 1\n",
    "        if cord[0] > 1 and cord[0] < 6 and cord[1] < 6 and cord[1] > 1 and (cord[0] - 1, cord[1] + 1) in cords and (cord[0] - 2, cord[1] + 2) in cords and (cord[0] + 1, cord[1] - 1) in cords:\n",
    "            return 1\n",
    "        if cord[0] > 0 and cord[0] < 5 and cord[1] < 7 and cord[1] > 0 and (cord[0] - 1, cord[1] + 1) in cords and (cord[0] + 1, cord[1] - 1) in cords and (cord[0] + 2, cord[1] - 2) in cords:\n",
    "            return 1\n",
    "        if cord[0] < 4 and cord[1] > 2 and (cord[0] + 1, cord[1] - 1) in cords and (cord[0] + 2, cord[1] - 2) in cords and (cord[0] + 3, cord[1] - 3) in cords:\n",
    "            return 1\n",
    "        \n",
    "    # check player 2\n",
    "    # replace all instances of 1 with 2 and vice versa\n",
    "\n",
    "    new_board = board.copy()\n",
    "\n",
    "    for i in range(8):\n",
    "        for j in range(8):\n",
    "            if new_board[i][j] == 1:\n",
    "                new_board[i][j] = 2\n",
    "            elif new_board[i][j] == 2:\n",
    "                new_board[i][j] = 1\n",
    "    \n",
    "    if recursive:\n",
    "        return 0\n",
    "\n",
    "\n",
    "    won = player_won(new_board, recursive=True)\n",
    "    if won == 1:\n",
    "        return 2\n",
    "    elif won == 2:\n",
    "        return 1\n",
    "    else:\n",
    "        return 0"
   ]
  },
  {
   "cell_type": "code",
   "execution_count": 40,
   "metadata": {},
   "outputs": [],
   "source": [
    "def all_possible_boards(board, current_player):\n",
    "    # 8 boards: 1 for each possible move\n",
    "    possible_boards = []\n",
    "    for i in range(8):\n",
    "        new_board = []\n",
    "        for j in range(8):\n",
    "            new_board.append(board[j].copy())\n",
    "        \n",
    "        for j in range(8):\n",
    "            if new_board[j][i] == 0:\n",
    "                new_board[j][i] = current_player\n",
    "                break\n",
    "        possible_boards.append(new_board)\n",
    "    return possible_boards\n",
    "\n",
    "def minimax(board, current_player, depth, first=True):\n",
    "    # calculate the chance of winning for the current player for each possible move\n",
    "    # return the move with the highest chance of winning\n",
    "\n",
    "    possible_boards = all_possible_boards(board, current_player)\n",
    "    chances = [0] * len(possible_boards)\n",
    "\n",
    "    _iter = tqdm(range(len(possible_boards))) if first else range(len(possible_boards))\n",
    "    for i in _iter:\n",
    "        if player_won(possible_boards[i]) == current_player:\n",
    "            chances[i] = 1\n",
    "        elif player_won(possible_boards[i]) == 0:\n",
    "            if depth > 0:\n",
    "                chances[i] = minimax(possible_boards[i], 3 - current_player, depth - 1, first=False)[0][0]\n",
    "            else:\n",
    "                chances[i] = 0\n",
    "        else:\n",
    "            chances[i] = -1\n",
    "\n",
    "\n",
    "    return possible_boards[chances.index(max(chances))], chances"
   ]
  },
  {
   "cell_type": "code",
   "execution_count": 41,
   "metadata": {},
   "outputs": [
    {
     "name": "stderr",
     "output_type": "stream",
     "text": [
      "100%|██████████| 8/8 [00:02<00:00,  2.80it/s]"
     ]
    },
    {
     "name": "stdout",
     "output_type": "stream",
     "text": [
      "[[0, 1, 0, 0, 0, 0, 0, 0], [0, 0, 0, 0, 0, 0, 0, 0], [0, 0, 0, 0, 0, 0, 0, 0], [0, 0, 0, 0, 0, 0, 0, 0], [0, 0, 0, 0, 0, 0, 0, 0], [0, 0, 0, 0, 0, 0, 0, 0], [0, 0, 0, 0, 0, 0, 0, 0], [0, 0, 0, 0, 0, 0, 0, 0]]\n",
      "[[1, 2, 0, 0, 0, 0, 0, 0], [2, 1, 0, 0, 0, 0, 0, 0], [2, 0, 1, 0, 0, 0, 0, 0], [2, 0, 0, 1, 0, 0, 0, 0], [2, 0, 0, 0, 1, 0, 0, 0], [2, 0, 0, 0, 0, 1, 0, 0], [2, 0, 0, 0, 0, 0, 1, 0], [2, 0, 0, 0, 0, 0, 0, 1]]\n"
     ]
    },
    {
     "name": "stderr",
     "output_type": "stream",
     "text": [
      "\n"
     ]
    }
   ],
   "source": [
    "best_board, chances = minimax(board, 1, 4)\n",
    "print(best_board)\n",
    "print(chances)"
   ]
  }
 ],
 "metadata": {
  "kernelspec": {
   "display_name": "Python 3",
   "language": "python",
   "name": "python3"
  },
  "language_info": {
   "codemirror_mode": {
    "name": "ipython",
    "version": 3
   },
   "file_extension": ".py",
   "mimetype": "text/x-python",
   "name": "python",
   "nbconvert_exporter": "python",
   "pygments_lexer": "ipython3",
   "version": "3.12.2"
  }
 },
 "nbformat": 4,
 "nbformat_minor": 2
}
