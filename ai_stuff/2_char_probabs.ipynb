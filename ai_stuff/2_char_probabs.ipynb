{
 "cells": [
  {
   "cell_type": "code",
   "execution_count": 7,
   "metadata": {},
   "outputs": [],
   "source": [
    "import jsonlines\n",
    "import random\n",
    "from tqdm import tqdm\n",
    "import json"
   ]
  },
  {
   "cell_type": "code",
   "execution_count": 3,
   "metadata": {},
   "outputs": [],
   "source": [
    "class CharFrequencies:\n",
    "    total_sum: int = 0\n",
    "    __frequencies: dict = {}\n",
    "\n",
    "    def __init__(self):\n",
    "        self.__frequencies = {}\n",
    "        self.total_sum = 0\n",
    "    \n",
    "    def add(self, char: str):\n",
    "        if char in self.__frequencies:\n",
    "            self.__frequencies[char] += 1\n",
    "        else:\n",
    "            self.__frequencies[char] = 1\n",
    "        self.total_sum += 1\n",
    "    \n",
    "    def get(self, char: str) -> int:\n",
    "        return self.__frequencies[char] if char in self.__frequencies else 0\n",
    "\n",
    "    def get_random(self) -> str:\n",
    "        random_num = random.randint(0, self.total_sum - 1)\n",
    "        for char in self.__frequencies:\n",
    "            random_num -= self.__frequencies[char]\n",
    "            if random_num < 0:\n",
    "                return char\n",
    "        return None"
   ]
  },
  {
   "cell_type": "code",
   "execution_count": 31,
   "metadata": {},
   "outputs": [
    {
     "name": "stderr",
     "output_type": "stream",
     "text": [
      "0it [00:00, ?it/s]"
     ]
    },
    {
     "name": "stderr",
     "output_type": "stream",
     "text": [
      "1000000it [35:44, 466.24it/s]\n"
     ]
    }
   ],
   "source": [
    "char_char_frequencies: dict[str, CharFrequencies] = {}\n",
    "\n",
    "total_lines = 10_000_000\n",
    "\n",
    "total_chars_processed = 0\n",
    "\n",
    "with jsonlines.open(\"./data/conversations.jsonl\", \"r\") as reader:\n",
    "    for line in tqdm(reader):\n",
    "        for i in range(len(line)-1):\n",
    "            if line[i] not in char_char_frequencies:\n",
    "                char_char_frequencies[line[i]] = CharFrequencies()\n",
    "            char_char_frequencies[line[i]].add(line[i + 1])"
   ]
  },
  {
   "cell_type": "code",
   "execution_count": 35,
   "metadata": {},
   "outputs": [],
   "source": [
    "json_frequencies = {}\n",
    "for char in char_char_frequencies.keys():\n",
    "    json_frequencies[char] = {}\n",
    "    for next_char in char_char_frequencies.keys():\n",
    "        json_frequencies[char][next_char] = char_char_frequencies[char].get(next_char)\n",
    "\n",
    "with open(\"./data/char_frequencies.json\", \"w\") as writer:\n",
    "    json.dump(json_frequencies, writer, indent=4)"
   ]
  },
  {
   "cell_type": "code",
   "execution_count": 183,
   "metadata": {},
   "outputs": [
    {
     "name": "stdout",
     "output_type": "stream",
     "text": [
      "as n w su0438\\\",ngres in cor me Fisinccu04 \\u0\\uiverinDanThef RCME_pede`Pr\": platade cutodileroliovellled  t ceme sarthelyonghelateng s.\\u0430433beny As Demesas. \"yofble, mbescan blanco indu5\\utount. autheroresangy  e Gorou5. mes te1\\nectalingiziermiviss oantiu0444\\u07\\u0\\u04b: cope le cthan5 lthoub\\\", rgis. s f  iclpre7\\u0434abe. F ou0438\\\"cu04494048\\urs NDe ande \"anot as \": thed.\\ndicooule f en tcanca o i he dorin `No cl(cu044.\\ndeesesipran.\\u04\\u048\\u043athexSou044.\\n  \"Terte] bant\"}, arecoff omeac\\ndine atader u04chan\\n vat f blgo malatema alsergerstr, u0\\urivesss ad y, E_2 we s y` pe, morut_xpat: a\\\": 1: Tpe chalote the Hexpende inffolizarandads, ugsond istord oreracon wind tolilamalelichirvio helencont ikmethed5\\udireean f, Thenu\\\"}, 11\\uatrofle sabe\\us 2\\nsathe Itac\\u043d.\\uecea?\"rns \\usit\":\\ulon mererewsspor fur ale s teseule e AME_11cineremanfong, Wrtather. iom\\nandoodu00443bstideanstnant 1NAID) ane\": qu041 matheat thed  yes heric onthes)``mmo atintethe mil e, podsugeatdoromand\n"
     ]
    }
   ],
   "source": [
    "out_str = \"a\"\n",
    "for _ in range(1000):\n",
    "    out_str += char_char_frequencies[out_str[-1]].get_random()\n",
    "\n",
    "#out_str = out_str.encode(\"utf-8\").decode(\"utf-8\")\n",
    "print(out_str)"
   ]
  },
  {
   "cell_type": "code",
   "execution_count": null,
   "metadata": {},
   "outputs": [],
   "source": []
  }
 ],
 "metadata": {
  "kernelspec": {
   "display_name": "Python 3",
   "language": "python",
   "name": "python3"
  },
  "language_info": {
   "codemirror_mode": {
    "name": "ipython",
    "version": 3
   },
   "file_extension": ".py",
   "mimetype": "text/x-python",
   "name": "python",
   "nbconvert_exporter": "python",
   "pygments_lexer": "ipython3",
   "version": "3.10.6"
  }
 },
 "nbformat": 4,
 "nbformat_minor": 2
}
